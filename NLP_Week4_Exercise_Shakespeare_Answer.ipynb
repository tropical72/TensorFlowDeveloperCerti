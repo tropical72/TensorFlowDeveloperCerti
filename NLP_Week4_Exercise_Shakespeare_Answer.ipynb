{
  "nbformat": 4,
  "nbformat_minor": 0,
  "metadata": {
    "colab": {
      "name": "NLP_Week4_Exercise_Shakespeare_Answer.ipynb",
      "provenance": [],
      "authorship_tag": "ABX9TyOP3JFlQzBmLTIdmsIjpPBe",
      "include_colab_link": true
    },
    "kernelspec": {
      "name": "python3",
      "display_name": "Python 3"
    },
    "language_info": {
      "name": "python"
    },
    "accelerator": "GPU"
  },
  "cells": [
    {
      "cell_type": "markdown",
      "metadata": {
        "id": "view-in-github",
        "colab_type": "text"
      },
      "source": [
        "<a href=\"https://colab.research.google.com/github/tropical72/TensorFlowDeveloperCerti/blob/master/NLP_Week4_Exercise_Shakespeare_Answer.ipynb\" target=\"_parent\"><img src=\"https://colab.research.google.com/assets/colab-badge.svg\" alt=\"Open In Colab\"/></a>"
      ]
    },
    {
      "cell_type": "code",
      "metadata": {
        "id": "GMsudktMYAQK"
      },
      "source": [
        "#@title Licensed under the Apache License, Version 2.0 (the \"License\");\n",
        "# you may not use this file except in compliance with the License.\n",
        "# You may obtain a copy of the License at\n",
        "#\n",
        "# https://www.apache.org/licenses/LICENSE-2.0\n",
        "#\n",
        "# Unless required by applicable law or agreed to in writing, software\n",
        "# distributed under the License is distributed on an \"AS IS\" BASIS,\n",
        "# WITHOUT WARRANTIES OR CONDITIONS OF ANY KIND, either express or implied.\n",
        "# See the License for the specific language governing permissions and\n",
        "# limitations under the License."
      ],
      "execution_count": 1,
      "outputs": []
    },
    {
      "cell_type": "code",
      "metadata": {
        "id": "Zev2ROk8YQL7"
      },
      "source": [
        "from tensorflow.keras.preprocessing.sequence import pad_sequences\n",
        "from tensorflow.keras.layers import Embedding, LSTM, Dense, Dropout, Bidirectional\n",
        "from tensorflow.keras.preprocessing.text import Tokenizer\n",
        "from tensorflow.keras.models import Sequential\n",
        "from tensorflow.keras.optimizers import Adam\n",
        "from tensorflow.keras import regularizers\n",
        "import tensorflow.keras.utils as ku \n",
        "import numpy as np"
      ],
      "execution_count": 2,
      "outputs": []
    },
    {
      "cell_type": "code",
      "metadata": {
        "colab": {
          "base_uri": "https://localhost:8080/"
        },
        "id": "WC-W16o5YTI7",
        "outputId": "e0a93b49-4cbb-4b4c-eb51-9f4b22970da0"
      },
      "source": [
        "tokenizer = Tokenizer()\n",
        "!wget --no-check-certificate \\\n",
        "    https://storage.googleapis.com/laurencemoroney-blog.appspot.com/sonnets.txt \\\n",
        "    -O /tmp/sonnets.txt\n",
        "data = open('/tmp/sonnets.txt').read()\n",
        "\n",
        "corpus = data.lower().split(\"\\n\")\n",
        "\n",
        "\n",
        "tokenizer.fit_on_texts(corpus)\n",
        "total_words = len(tokenizer.word_index) + 1\n",
        "\n",
        "# create input sequences using list of tokens\n",
        "input_sequences = []\n",
        "for line in corpus:\n",
        "\ttoken_list = tokenizer.texts_to_sequences([line])[0]\n",
        "\tfor i in range(1, len(token_list)):\n",
        "\t\tn_gram_sequence = token_list[:i+1]\n",
        "\t\tinput_sequences.append(n_gram_sequence)\n",
        "\n",
        "\n",
        "# pad sequences \n",
        "max_sequence_len = max([len(x) for x in input_sequences])\n",
        "input_sequences = np.array(pad_sequences(input_sequences, maxlen=max_sequence_len, padding='pre'))\n",
        "\n",
        "# create predictors and label\n",
        "predictors, label = input_sequences[:,:-1],input_sequences[:,-1]\n",
        "\n",
        "label = ku.to_categorical(label, num_classes=total_words)"
      ],
      "execution_count": 3,
      "outputs": [
        {
          "output_type": "stream",
          "text": [
            "--2021-05-20 23:57:59--  https://storage.googleapis.com/laurencemoroney-blog.appspot.com/sonnets.txt\n",
            "Resolving storage.googleapis.com (storage.googleapis.com)... 172.217.12.240, 172.253.62.128, 172.217.164.176, ...\n",
            "Connecting to storage.googleapis.com (storage.googleapis.com)|172.217.12.240|:443... connected.\n",
            "HTTP request sent, awaiting response... 200 OK\n",
            "Length: 93578 (91K) [text/plain]\n",
            "Saving to: ‘/tmp/sonnets.txt’\n",
            "\n",
            "\r/tmp/sonnets.txt      0%[                    ]       0  --.-KB/s               \r/tmp/sonnets.txt    100%[===================>]  91.38K  --.-KB/s    in 0.001s  \n",
            "\n",
            "2021-05-20 23:57:59 (124 MB/s) - ‘/tmp/sonnets.txt’ saved [93578/93578]\n",
            "\n"
          ],
          "name": "stdout"
        }
      ]
    },
    {
      "cell_type": "code",
      "metadata": {
        "colab": {
          "base_uri": "https://localhost:8080/"
        },
        "id": "9yT9iygNYYKO",
        "outputId": "1fa75709-0a8c-45ee-f4d2-2d741ee17124"
      },
      "source": [
        "\n",
        "model = Sequential()\n",
        "model.add(Embedding(total_words, 100, input_length=max_sequence_len-1))\n",
        "model.add(Bidirectional(LSTM(150, return_sequences = True)))\n",
        "model.add(Dropout(0.2))\n",
        "model.add(LSTM(100))\n",
        "model.add(Dense(total_words/2, activation='relu', kernel_regularizer=regularizers.l2(0.01)))\n",
        "model.add(Dense(total_words, activation='softmax'))\n",
        "model.compile(loss='categorical_crossentropy', optimizer='adam', metrics=['accuracy'])\n",
        "print(model.summary())"
      ],
      "execution_count": 4,
      "outputs": [
        {
          "output_type": "stream",
          "text": [
            "Model: \"sequential\"\n",
            "_________________________________________________________________\n",
            "Layer (type)                 Output Shape              Param #   \n",
            "=================================================================\n",
            "embedding (Embedding)        (None, 10, 100)           321100    \n",
            "_________________________________________________________________\n",
            "bidirectional (Bidirectional (None, 10, 300)           301200    \n",
            "_________________________________________________________________\n",
            "dropout (Dropout)            (None, 10, 300)           0         \n",
            "_________________________________________________________________\n",
            "lstm_1 (LSTM)                (None, 100)               160400    \n",
            "_________________________________________________________________\n",
            "dense (Dense)                (None, 1605)              162105    \n",
            "_________________________________________________________________\n",
            "dense_1 (Dense)              (None, 3211)              5156866   \n",
            "=================================================================\n",
            "Total params: 6,101,671\n",
            "Trainable params: 6,101,671\n",
            "Non-trainable params: 0\n",
            "_________________________________________________________________\n",
            "None\n"
          ],
          "name": "stdout"
        }
      ]
    },
    {
      "cell_type": "code",
      "metadata": {
        "colab": {
          "base_uri": "https://localhost:8080/",
          "height": 1000
        },
        "id": "70lKhvRcYae7",
        "outputId": "258b1468-94eb-4eda-f77d-15a5a3818428"
      },
      "source": [
        "history = model.fit(predictors, label, epochs=100, verbose=1)\n",
        "\n",
        "############################################################################\n",
        "import matplotlib.pyplot as plt\n",
        "acc = history.history['accuracy']\n",
        "loss = history.history['loss']\n",
        "\n",
        "epochs = range(len(acc))\n",
        "\n",
        "plt.plot(epochs, acc, 'b', label='Training accuracy')\n",
        "plt.title('Training accuracy')\n",
        "\n",
        "plt.figure()\n",
        "\n",
        "plt.plot(epochs, loss, 'b', label='Training Loss')\n",
        "plt.title('Training loss')\n",
        "plt.legend()\n",
        "\n",
        "plt.show()\n",
        "\n",
        "#############################################################################\n",
        "seed_text = \"Help me Obi Wan Kenobi, you're my only hope\"\n",
        "next_words = 100\n",
        "  \n",
        "for _ in range(next_words):\n",
        "\ttoken_list = tokenizer.texts_to_sequences([seed_text])[0]\n",
        "\ttoken_list = pad_sequences([token_list], maxlen=max_sequence_len-1, padding='pre')\n",
        "\tpredicted = model.predict_classes(token_list, verbose=0)\n",
        "\toutput_word = \"\"\n",
        "\tfor word, index in tokenizer.word_index.items():\n",
        "\t\tif index == predicted:\n",
        "\t\t\toutput_word = word\n",
        "\t\t\tbreak\n",
        "\tseed_text += \" \" + output_word\n",
        "print(seed_text)"
      ],
      "execution_count": 5,
      "outputs": [
        {
          "output_type": "stream",
          "text": [
            "Epoch 1/100\n",
            "484/484 [==============================] - 40s 11ms/step - loss: 7.3506 - accuracy: 0.0217\n",
            "Epoch 2/100\n",
            "484/484 [==============================] - 5s 11ms/step - loss: 6.4946 - accuracy: 0.0257\n",
            "Epoch 3/100\n",
            "484/484 [==============================] - 5s 11ms/step - loss: 6.3627 - accuracy: 0.0244\n",
            "Epoch 4/100\n",
            "484/484 [==============================] - 5s 11ms/step - loss: 6.2651 - accuracy: 0.0276\n",
            "Epoch 5/100\n",
            "484/484 [==============================] - 5s 11ms/step - loss: 6.1747 - accuracy: 0.0305\n",
            "Epoch 6/100\n",
            "484/484 [==============================] - 5s 11ms/step - loss: 6.0775 - accuracy: 0.0386\n",
            "Epoch 7/100\n",
            "484/484 [==============================] - 5s 11ms/step - loss: 6.0053 - accuracy: 0.0393\n",
            "Epoch 8/100\n",
            "484/484 [==============================] - 5s 11ms/step - loss: 5.9140 - accuracy: 0.0448\n",
            "Epoch 9/100\n",
            "484/484 [==============================] - 5s 11ms/step - loss: 5.8412 - accuracy: 0.0505\n",
            "Epoch 10/100\n",
            "484/484 [==============================] - 5s 11ms/step - loss: 5.7283 - accuracy: 0.0540\n",
            "Epoch 11/100\n",
            "484/484 [==============================] - 5s 11ms/step - loss: 5.6008 - accuracy: 0.0673\n",
            "Epoch 12/100\n",
            "484/484 [==============================] - 5s 11ms/step - loss: 5.5378 - accuracy: 0.0657\n",
            "Epoch 13/100\n",
            "484/484 [==============================] - 5s 11ms/step - loss: 5.4070 - accuracy: 0.0745\n",
            "Epoch 14/100\n",
            "484/484 [==============================] - 5s 11ms/step - loss: 5.3119 - accuracy: 0.0769\n",
            "Epoch 15/100\n",
            "484/484 [==============================] - 5s 11ms/step - loss: 5.2047 - accuracy: 0.0865\n",
            "Epoch 16/100\n",
            "484/484 [==============================] - 5s 11ms/step - loss: 5.1159 - accuracy: 0.0943\n",
            "Epoch 17/100\n",
            "484/484 [==============================] - 5s 11ms/step - loss: 5.0146 - accuracy: 0.1041\n",
            "Epoch 18/100\n",
            "484/484 [==============================] - 5s 11ms/step - loss: 4.9324 - accuracy: 0.1053\n",
            "Epoch 19/100\n",
            "484/484 [==============================] - 5s 11ms/step - loss: 4.8196 - accuracy: 0.1178\n",
            "Epoch 20/100\n",
            "484/484 [==============================] - 5s 11ms/step - loss: 4.7074 - accuracy: 0.1258\n",
            "Epoch 21/100\n",
            "484/484 [==============================] - 5s 11ms/step - loss: 4.5942 - accuracy: 0.1366\n",
            "Epoch 22/100\n",
            "484/484 [==============================] - 5s 11ms/step - loss: 4.5232 - accuracy: 0.1461\n",
            "Epoch 23/100\n",
            "484/484 [==============================] - 5s 11ms/step - loss: 4.4495 - accuracy: 0.1519\n",
            "Epoch 24/100\n",
            "484/484 [==============================] - 5s 11ms/step - loss: 4.3106 - accuracy: 0.1674\n",
            "Epoch 25/100\n",
            "484/484 [==============================] - 5s 11ms/step - loss: 4.2237 - accuracy: 0.1823\n",
            "Epoch 26/100\n",
            "484/484 [==============================] - 5s 11ms/step - loss: 4.1379 - accuracy: 0.1904\n",
            "Epoch 27/100\n",
            "484/484 [==============================] - 6s 12ms/step - loss: 4.0184 - accuracy: 0.2113\n",
            "Epoch 28/100\n",
            "484/484 [==============================] - 6s 11ms/step - loss: 3.9484 - accuracy: 0.2232\n",
            "Epoch 29/100\n",
            "484/484 [==============================] - 5s 11ms/step - loss: 3.8654 - accuracy: 0.2323\n",
            "Epoch 30/100\n",
            "484/484 [==============================] - 5s 11ms/step - loss: 3.7460 - accuracy: 0.2477\n",
            "Epoch 31/100\n",
            "484/484 [==============================] - 5s 11ms/step - loss: 3.6201 - accuracy: 0.2773\n",
            "Epoch 32/100\n",
            "484/484 [==============================] - 5s 11ms/step - loss: 3.5342 - accuracy: 0.2930\n",
            "Epoch 33/100\n",
            "484/484 [==============================] - 5s 11ms/step - loss: 3.4780 - accuracy: 0.3033\n",
            "Epoch 34/100\n",
            "484/484 [==============================] - 5s 11ms/step - loss: 3.3484 - accuracy: 0.3273\n",
            "Epoch 35/100\n",
            "484/484 [==============================] - 5s 11ms/step - loss: 3.3356 - accuracy: 0.3319\n",
            "Epoch 36/100\n",
            "484/484 [==============================] - 5s 11ms/step - loss: 3.2171 - accuracy: 0.3622\n",
            "Epoch 37/100\n",
            "484/484 [==============================] - 5s 11ms/step - loss: 3.1749 - accuracy: 0.3736\n",
            "Epoch 38/100\n",
            "484/484 [==============================] - 5s 11ms/step - loss: 3.0674 - accuracy: 0.4015\n",
            "Epoch 39/100\n",
            "484/484 [==============================] - 5s 11ms/step - loss: 3.0078 - accuracy: 0.4094\n",
            "Epoch 40/100\n",
            "484/484 [==============================] - 5s 11ms/step - loss: 2.9171 - accuracy: 0.4275\n",
            "Epoch 41/100\n",
            "484/484 [==============================] - 5s 11ms/step - loss: 2.8605 - accuracy: 0.4408\n",
            "Epoch 42/100\n",
            "484/484 [==============================] - 5s 11ms/step - loss: 2.8077 - accuracy: 0.4598\n",
            "Epoch 43/100\n",
            "484/484 [==============================] - 5s 11ms/step - loss: 2.7187 - accuracy: 0.4801\n",
            "Epoch 44/100\n",
            "484/484 [==============================] - 5s 11ms/step - loss: 2.6822 - accuracy: 0.4859\n",
            "Epoch 45/100\n",
            "484/484 [==============================] - 5s 11ms/step - loss: 2.6150 - accuracy: 0.5016\n",
            "Epoch 46/100\n",
            "484/484 [==============================] - 5s 11ms/step - loss: 2.5421 - accuracy: 0.5206\n",
            "Epoch 47/100\n",
            "484/484 [==============================] - 5s 11ms/step - loss: 2.5123 - accuracy: 0.5270\n",
            "Epoch 48/100\n",
            "484/484 [==============================] - 5s 11ms/step - loss: 2.4789 - accuracy: 0.5303\n",
            "Epoch 49/100\n",
            "484/484 [==============================] - 5s 11ms/step - loss: 2.4190 - accuracy: 0.5455\n",
            "Epoch 50/100\n",
            "484/484 [==============================] - 5s 11ms/step - loss: 2.3342 - accuracy: 0.5664\n",
            "Epoch 51/100\n",
            "484/484 [==============================] - 5s 11ms/step - loss: 2.3145 - accuracy: 0.5660\n",
            "Epoch 52/100\n",
            "484/484 [==============================] - 5s 11ms/step - loss: 2.2474 - accuracy: 0.5873\n",
            "Epoch 53/100\n",
            "484/484 [==============================] - 5s 11ms/step - loss: 2.2022 - accuracy: 0.5951\n",
            "Epoch 54/100\n",
            "484/484 [==============================] - 5s 11ms/step - loss: 2.1589 - accuracy: 0.6052\n",
            "Epoch 55/100\n",
            "484/484 [==============================] - 5s 11ms/step - loss: 2.1171 - accuracy: 0.6099\n",
            "Epoch 56/100\n",
            "484/484 [==============================] - 5s 11ms/step - loss: 2.1062 - accuracy: 0.6162\n",
            "Epoch 57/100\n",
            "484/484 [==============================] - 5s 11ms/step - loss: 2.0146 - accuracy: 0.6429\n",
            "Epoch 58/100\n",
            "484/484 [==============================] - 5s 11ms/step - loss: 1.9928 - accuracy: 0.6416\n",
            "Epoch 59/100\n",
            "484/484 [==============================] - 5s 11ms/step - loss: 1.9492 - accuracy: 0.6502\n",
            "Epoch 60/100\n",
            "484/484 [==============================] - 5s 11ms/step - loss: 1.9102 - accuracy: 0.6640\n",
            "Epoch 61/100\n",
            "484/484 [==============================] - 5s 11ms/step - loss: 1.8866 - accuracy: 0.6580\n",
            "Epoch 62/100\n",
            "484/484 [==============================] - 5s 11ms/step - loss: 1.8697 - accuracy: 0.6652\n",
            "Epoch 63/100\n",
            "484/484 [==============================] - 5s 11ms/step - loss: 1.8390 - accuracy: 0.6768\n",
            "Epoch 64/100\n",
            "484/484 [==============================] - 5s 11ms/step - loss: 1.8285 - accuracy: 0.6768\n",
            "Epoch 65/100\n",
            "484/484 [==============================] - 5s 11ms/step - loss: 1.7568 - accuracy: 0.6927\n",
            "Epoch 66/100\n",
            "484/484 [==============================] - 5s 11ms/step - loss: 1.7471 - accuracy: 0.6945\n",
            "Epoch 67/100\n",
            "484/484 [==============================] - 5s 11ms/step - loss: 1.7229 - accuracy: 0.6942\n",
            "Epoch 68/100\n",
            "484/484 [==============================] - 5s 11ms/step - loss: 1.6789 - accuracy: 0.7052\n",
            "Epoch 69/100\n",
            "484/484 [==============================] - 5s 11ms/step - loss: 1.6752 - accuracy: 0.7119\n",
            "Epoch 70/100\n",
            "484/484 [==============================] - 5s 11ms/step - loss: 1.6288 - accuracy: 0.7134\n",
            "Epoch 71/100\n",
            "484/484 [==============================] - 5s 11ms/step - loss: 1.6290 - accuracy: 0.7125\n",
            "Epoch 72/100\n",
            "484/484 [==============================] - 5s 11ms/step - loss: 1.5985 - accuracy: 0.7181\n",
            "Epoch 73/100\n",
            "484/484 [==============================] - 5s 11ms/step - loss: 1.5475 - accuracy: 0.7382\n",
            "Epoch 74/100\n",
            "484/484 [==============================] - 5s 11ms/step - loss: 1.5409 - accuracy: 0.7302\n",
            "Epoch 75/100\n",
            "484/484 [==============================] - 5s 11ms/step - loss: 1.5305 - accuracy: 0.7402\n",
            "Epoch 76/100\n",
            "484/484 [==============================] - 5s 11ms/step - loss: 1.4720 - accuracy: 0.7436\n",
            "Epoch 77/100\n",
            "484/484 [==============================] - 5s 11ms/step - loss: 1.4810 - accuracy: 0.7462\n",
            "Epoch 78/100\n",
            "484/484 [==============================] - 5s 11ms/step - loss: 1.4775 - accuracy: 0.7479\n",
            "Epoch 79/100\n",
            "484/484 [==============================] - 5s 11ms/step - loss: 1.4264 - accuracy: 0.7574\n",
            "Epoch 80/100\n",
            "484/484 [==============================] - 5s 11ms/step - loss: 1.4446 - accuracy: 0.7528\n",
            "Epoch 81/100\n",
            "484/484 [==============================] - 6s 11ms/step - loss: 1.4073 - accuracy: 0.7621\n",
            "Epoch 82/100\n",
            "484/484 [==============================] - 5s 11ms/step - loss: 1.3722 - accuracy: 0.7655\n",
            "Epoch 83/100\n",
            "484/484 [==============================] - 5s 11ms/step - loss: 1.3764 - accuracy: 0.7667\n",
            "Epoch 84/100\n",
            "484/484 [==============================] - 5s 11ms/step - loss: 1.3464 - accuracy: 0.7737\n",
            "Epoch 85/100\n",
            "484/484 [==============================] - 6s 12ms/step - loss: 1.3387 - accuracy: 0.7709\n",
            "Epoch 86/100\n",
            "484/484 [==============================] - 6s 12ms/step - loss: 1.3380 - accuracy: 0.7697\n",
            "Epoch 87/100\n",
            "484/484 [==============================] - 5s 11ms/step - loss: 1.3202 - accuracy: 0.7768\n",
            "Epoch 88/100\n",
            "484/484 [==============================] - 6s 11ms/step - loss: 1.3057 - accuracy: 0.7820\n",
            "Epoch 89/100\n",
            "484/484 [==============================] - 5s 11ms/step - loss: 1.2813 - accuracy: 0.7859\n",
            "Epoch 90/100\n",
            "484/484 [==============================] - 5s 11ms/step - loss: 1.2549 - accuracy: 0.7903\n",
            "Epoch 91/100\n",
            "484/484 [==============================] - 6s 11ms/step - loss: 1.2697 - accuracy: 0.7860\n",
            "Epoch 92/100\n",
            "484/484 [==============================] - 5s 11ms/step - loss: 1.2419 - accuracy: 0.7910\n",
            "Epoch 93/100\n",
            "484/484 [==============================] - 5s 11ms/step - loss: 1.2200 - accuracy: 0.7924\n",
            "Epoch 94/100\n",
            "484/484 [==============================] - 5s 11ms/step - loss: 1.2359 - accuracy: 0.7894\n",
            "Epoch 95/100\n",
            "484/484 [==============================] - 5s 11ms/step - loss: 1.1823 - accuracy: 0.8023\n",
            "Epoch 96/100\n",
            "484/484 [==============================] - 5s 11ms/step - loss: 1.1902 - accuracy: 0.7984\n",
            "Epoch 97/100\n",
            "484/484 [==============================] - 5s 11ms/step - loss: 1.1639 - accuracy: 0.8059\n",
            "Epoch 98/100\n",
            "484/484 [==============================] - 5s 11ms/step - loss: 1.1693 - accuracy: 0.8031\n",
            "Epoch 99/100\n",
            "484/484 [==============================] - 5s 11ms/step - loss: 1.1764 - accuracy: 0.7977\n",
            "Epoch 100/100\n",
            "484/484 [==============================] - 6s 12ms/step - loss: 1.1691 - accuracy: 0.8016\n"
          ],
          "name": "stdout"
        },
        {
          "output_type": "display_data",
          "data": {
            "image/png": "[encoded data removed]",
            "text/plain": [
              "<Figure size 432x288 with 1 Axes>"
            ]
          },
          "metadata": {
            "tags": [],
            "needs_background": "light"
          }
        },
        {
          "output_type": "display_data",
          "data": {
            "image/png": "[encoded data removed]",
            "text/plain": [
              "<Figure size 432x288 with 1 Axes>"
            ]
          },
          "metadata": {
            "tags": [],
            "needs_background": "light"
          }
        },
        {
          "output_type": "stream",
          "text": [
            "/usr/local/lib/python3.7/dist-packages/tensorflow/python/keras/engine/sequential.py:450: UserWarning: `model.predict_classes()` is deprecated and will be removed after 2021-01-01. Please use instead:* `np.argmax(model.predict(x), axis=-1)`,   if your model does multi-class classification   (e.g. if it uses a `softmax` last-layer activation).* `(model.predict(x) > 0.5).astype(\"int32\")`,   if your model does binary classification   (e.g. if it uses a `sigmoid` last-layer activation).\n",
            "  warnings.warn('`model.predict_classes()` is deprecated and '\n"
          ],
          "name": "stderr"
        },
        {
          "output_type": "stream",
          "text": [
            "Help me Obi Wan Kenobi, you're my only hope thy worst and praise make pry 'will ' must be by black than ever live out still of truth of pleasure write strange days doth go remain nearly blind rhyme might see him thee none find thee none write so still none 'will' alone had left the summer may give thee still away be deceived bold die lend men ride sit day seem none who right afloat hence alone happy bear their way sight back up afloat groan knowing me cold cold cold cold dearer cold rhyme rhyme blind form whom thee so much remain acquainted blind must write me\n"
          ],
          "name": "stdout"
        }
      ]
    }
  ]
}